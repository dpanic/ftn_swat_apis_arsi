{
 "cells": [
  {
   "cell_type": "markdown",
   "metadata": {},
   "source": [
    "# Load data\n",
    "\n",
    "Here we load and preprocess data from CSV file"
   ]
  },
  {
   "cell_type": "code",
   "execution_count": 1,
   "metadata": {},
   "outputs": [],
   "source": [
    "import modules.patterns as patterns\n",
    "import tabulate\n",
    "\n",
    "# bigger number is lower precission\n",
    "# highest precission is 1\n",
    "p = patterns.Patterns(precission=100, window_size=100)\n",
    "\n",
    "folder_loc = \"../data/2015/Network\"\n",
    "result_loc = \"../output.html\"\n",
    "\n",
    "stats = p.bootstrap(folder_loc)\n",
    "table = tabulate.tabulate(stats, tablefmt=\"html\")\n",
    "table\n",
    "\n",
    "with open(result_loc, \"w\") as fd:\n",
    "    fd.write(table.str)\n"
   ]
  },
  {
   "cell_type": "markdown",
   "metadata": {},
   "source": [
    "## Detect anomalies from input data\n",
    "\n",
    "We can get the information about attacks from SWaT dataset `data/2015/List_of_attacks_Final.csv. They represent are divided into groups:\n",
    "\n",
    "- Single stage single point (SSSP)\n",
    "- Single stage multi point (SSMP)\n",
    "- Multi stage single point (MSSP)\n",
    "- Multi stage multi point attacks (MSMP)"
   ]
  },
  {
   "cell_type": "code",
   "execution_count": 2,
   "metadata": {},
   "outputs": [
    {
     "name": "stdout",
     "output_type": "stream",
     "text": [
      "First anomaly detected 2015-12-28T10:29:14\n",
      "Loaded 35 anomalies\n",
      "\n"
     ]
    }
   ],
   "source": [
    "import modules.load as load\n",
    "\n",
    "attacks_file_loc = \"../data/2015/List_of_attacks_Final_fixed.xlsx\"\n",
    "stages, anomalies = load.anomalies(attacks_file_loc)\n",
    "\n",
    "print(\"Loaded %d anomalies\\n\" %(len(anomalies)))"
   ]
  },
  {
   "cell_type": "markdown",
   "metadata": {},
   "source": [
    "# Process data\n",
    "\n",
    "Here we process every single file for finding possible patterns"
   ]
  },
  {
   "cell_type": "code",
   "execution_count": 3,
   "metadata": {},
   "outputs": [
    {
     "name": "stdout",
     "output_type": "stream",
     "text": [
      "[ 1 / 10 | 414 / 784 ] processing file ../data/2015/Network/2015-12-28_113021_98.log.part07_sorted.csv\n",
      "[ 2 / 10 | 415 / 784 ] processing file ../data/2015/Network/2015-12-28_113021_98.log.part08_sorted.csv\n",
      "[ 3 / 10 | 416 / 784 ] processing file ../data/2015/Network/2015-12-28_113021_98.log.part09_sorted.csv\n",
      "[ 4 / 10 | 417 / 784 ] processing file ../data/2015/Network/2015-12-28_113021_98.log.part10_sorted.csv\n",
      "[ 5 / 10 | 418 / 784 ] processing file ../data/2015/Network/2015-12-28_113021_98.log.part11_sorted.csv\n",
      "[ 6 / 10 | 419 / 784 ] processing file ../data/2015/Network/2015-12-28_113021_98.log.part12_sorted.csv\n",
      "[ 7 / 10 | 420 / 784 ] processing file ../data/2015/Network/2015-12-28_113021_98.log.part13_sorted.csv\n",
      "[ 8 / 10 | 421 / 784 ] processing file ../data/2015/Network/2015-12-28_113021_98.log.part14_sorted.csv\n",
      "[ 9 / 10 | 422 / 784 ] processing file ../data/2015/Network/2015-12-28_164554_99.log.part01_sorted.csv\n",
      "[ 10 / 10 | 423 / 784 ] processing file ../data/2015/Network/2015-12-28_164554_99.log.part02_sorted.csv\n"
     ]
    },
    {
     "data": {
      "text/html": [
       "<table>\n",
       "<tbody>\n",
       "<tr><td># rows</td><td># Attack points</td><td>Attack points                      </td><td># Attacked stages</td><td>Attacked stages</td></tr>\n",
       "<tr><td>247775</td><td>5              </td><td>MV101, LIT101, P102, AIT202, LIT301</td><td>3                </td><td>P1, P2, P3     </td></tr>\n",
       "</tbody>\n",
       "</table>"
      ]
     },
     "metadata": {},
     "output_type": "display_data"
    },
    {
     "data": {
      "text/html": [
       "<table>\n",
       "<tbody>\n",
       "<tr><td>Attack #</td><td>Detected</td><td>Missed</td><td>Detected network requests</td><td>Missed network requests</td><td>False positive network requests</td></tr>\n",
       "<tr><td>*       </td><td>False   </td><td>False </td><td>0                        </td><td>0                      </td><td>47093                          </td></tr>\n",
       "<tr><td>1       </td><td>False   </td><td>False </td><td>0                        </td><td>0                      </td><td>0                              </td></tr>\n",
       "<tr><td>2       </td><td>True    </td><td>False </td><td>28                       </td><td>1495                   </td><td>0                              </td></tr>\n",
       "<tr><td>5       </td><td>True    </td><td>False </td><td>25                       </td><td>575                    </td><td>0                              </td></tr>\n",
       "</tbody>\n",
       "</table>"
      ]
     },
     "metadata": {},
     "output_type": "display_data"
    },
    {
     "data": {
      "text/html": [
       "<table>\n",
       "<tbody>\n",
       "<tr><td>Total</td><td>Detected</td><td>Detection %</td><td>Missed</td><td>Miss %</td><td>False Positive</td><td>False Positive %</td></tr>\n",
       "<tr><td>49216</td><td>53      </td><td>0.11       </td><td>2070  </td><td>4.21  </td><td>47093         </td><td>95.69           </td></tr>\n",
       "</tbody>\n",
       "</table>"
      ]
     },
     "metadata": {},
     "output_type": "display_data"
    },
    {
     "data": {
      "text/html": [
       "<table>\n",
       "<tbody>\n",
       "<tr><td>Total</td><td>Detected</td><td>Detection %</td><td>Missed</td><td>Miss %</td></tr>\n",
       "<tr><td>3    </td><td>2       </td><td>66.67      </td><td>1     </td><td>33.33 </td></tr>\n",
       "</tbody>\n",
       "</table>"
      ]
     },
     "metadata": {},
     "output_type": "display_data"
    },
    {
     "name": "stdout",
     "output_type": "stream",
     "text": [
      "Runtime 96 sec.\n"
     ]
    }
   ],
   "source": [
    "import time\n",
    "from IPython import display\n",
    "\n",
    "# edge case, testing one\n",
    "ts_start = time.time()\n",
    "stats = p.process_all(anomalies, skip_first=414, max_process=10)\n",
    "\n",
    "# stats = p.process_all(anomalies, skip_first=414, max_process=-1)\n",
    "\n",
    "# end of tests\n",
    "# stats = p.process_all(anomalies, skip_first=701, max_process=5)\n",
    "\n",
    "for stat in stats:\n",
    "    table = tabulate.tabulate(stat, tablefmt=\"html\")\n",
    "    display.display_html(table, raw=True)\n",
    "\n",
    "    with open(result_loc, \"a\") as fd:\n",
    "        fd.write(table.str)\n",
    "\n",
    "diff = time.time() - ts_start\n",
    "print(\"Runtime %d sec.\" %(diff))\n"
   ]
  },
  {
   "cell_type": "code",
   "execution_count": null,
   "metadata": {},
   "outputs": [],
   "source": []
  }
 ],
 "metadata": {
  "interpreter": {
   "hash": "df0893f56f349688326838aaeea0de204df53a132722cbd565e54b24a8fec5f6"
  },
  "kernelspec": {
   "display_name": "Python 3 (ipykernel)",
   "language": "python",
   "name": "python3"
  },
  "language_info": {
   "codemirror_mode": {
    "name": "ipython",
    "version": 3
   },
   "file_extension": ".py",
   "mimetype": "text/x-python",
   "name": "python",
   "nbconvert_exporter": "python",
   "pygments_lexer": "ipython3",
   "version": "3.8.10"
  },
  "orig_nbformat": 4
 },
 "nbformat": 4,
 "nbformat_minor": 2
}
