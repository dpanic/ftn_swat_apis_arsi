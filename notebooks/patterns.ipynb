{
 "cells": [
  {
   "cell_type": "markdown",
   "metadata": {},
   "source": [
    "# Load data\n",
    "\n",
    "Here we load and preprocess data from CSV file"
   ]
  },
  {
   "cell_type": "code",
   "execution_count": 1,
   "metadata": {},
   "outputs": [
    {
     "data": {
      "text/html": [
       "<table>\n",
       "<tbody>\n",
       "<tr><td>Total files</td><td>Skipped</td><td>Loaded</td></tr>\n",
       "<tr><td>786        </td><td>2      </td><td>784   </td></tr>\n",
       "</tbody>\n",
       "</table>"
      ],
      "text/plain": [
       "'<table>\\n<tbody>\\n<tr><td>Total files</td><td>Skipped</td><td>Loaded</td></tr>\\n<tr><td>786        </td><td>2      </td><td>784   </td></tr>\\n</tbody>\\n</table>'"
      ]
     },
     "execution_count": 1,
     "metadata": {},
     "output_type": "execute_result"
    }
   ],
   "source": [
    "import modules.patterns as patterns\n",
    "import tabulate\n",
    "\n",
    "# bigger number is lower precission\n",
    "# highest precission is 1\n",
    "p = patterns.Patterns(precission=1000, window_size=100)\n",
    "\n",
    "folder_loc = \"../data/2015/Network\"\n",
    "stats = p.bootstrap(folder_loc)\n",
    "table = tabulate.tabulate(stats, tablefmt=\"html\")\n",
    "table\n",
    "\n",
    "\n"
   ]
  },
  {
   "cell_type": "markdown",
   "metadata": {},
   "source": [
    "## Detect anomalies from input data\n",
    "\n",
    "We can get the information about attacks from SWaT dataset `data/2015/List_of_attacks_Final.csv. They represent are divided into groups:\n",
    "\n",
    "- Single stage single point (SSSP)\n",
    "- Single stage multi point (SSMP)\n",
    "- Multi stage single point (MSSP)\n",
    "- Multi stage multi point attacks (MSMP)"
   ]
  },
  {
   "cell_type": "code",
   "execution_count": 2,
   "metadata": {},
   "outputs": [
    {
     "name": "stdout",
     "output_type": "stream",
     "text": [
      "First anomaly detected 2015-12-28T10:29:14\n",
      "Loaded 35 anomalies\n",
      "\n"
     ]
    }
   ],
   "source": [
    "import modules.load as load\n",
    "\n",
    "attacks_file_loc = \"../data/2015/List_of_attacks_Final_fixed.xlsx\"\n",
    "stages, anomalies = load.anomalies(attacks_file_loc)\n",
    "\n",
    "print(\"Loaded %d anomalies\\n\" %(len(anomalies)))"
   ]
  },
  {
   "cell_type": "markdown",
   "metadata": {},
   "source": [
    "# Process data\n",
    "\n",
    "Here we process every single file for finding possible patterns"
   ]
  },
  {
   "cell_type": "code",
   "execution_count": 4,
   "metadata": {},
   "outputs": [
    {
     "name": "stdout",
     "output_type": "stream",
     "text": [
      "[ 1 / 20 | 410 / 784 ] processing file ../data/2015/Network/2015-12-28_113021_98.log.part03_sorted.csv\n",
      "[ 2 / 20 | 411 / 784 ] processing file ../data/2015/Network/2015-12-28_113021_98.log.part04_sorted.csv\n",
      "[ 3 / 20 | 412 / 784 ] processing file ../data/2015/Network/2015-12-28_113021_98.log.part05_sorted.csv\n",
      "[ 4 / 20 | 413 / 784 ] processing file ../data/2015/Network/2015-12-28_113021_98.log.part06_sorted.csv\n",
      "[ 5 / 20 | 414 / 784 ] processing file ../data/2015/Network/2015-12-28_113021_98.log.part07_sorted.csv\n",
      "[ 6 / 20 | 415 / 784 ] processing file ../data/2015/Network/2015-12-28_113021_98.log.part08_sorted.csv\n",
      "[ 7 / 20 | 416 / 784 ] processing file ../data/2015/Network/2015-12-28_113021_98.log.part09_sorted.csv\n",
      "[ 8 / 20 | 417 / 784 ] processing file ../data/2015/Network/2015-12-28_113021_98.log.part10_sorted.csv\n",
      "[ 9 / 20 | 418 / 784 ] processing file ../data/2015/Network/2015-12-28_113021_98.log.part11_sorted.csv\n",
      "[ 10 / 20 | 419 / 784 ] processing file ../data/2015/Network/2015-12-28_113021_98.log.part12_sorted.csv\n",
      "[ 11 / 20 | 420 / 784 ] processing file ../data/2015/Network/2015-12-28_113021_98.log.part13_sorted.csv\n",
      "[ 12 / 20 | 421 / 784 ] processing file ../data/2015/Network/2015-12-28_113021_98.log.part14_sorted.csv\n",
      "[ 13 / 20 | 422 / 784 ] processing file ../data/2015/Network/2015-12-28_164554_99.log.part01_sorted.csv\n",
      "[ 14 / 20 | 423 / 784 ] processing file ../data/2015/Network/2015-12-28_164554_99.log.part02_sorted.csv\n"
     ]
    }
   ],
   "source": [
    "from IPython import display\n",
    "\n",
    "# edge case, testing one\n",
    "stats = p.process_all(anomalies, skip_first=410, max_process=20)\n",
    "\n",
    "# stats = p.process_all(anomalies, skip_first=414, max_process=-1)\n",
    "\n",
    "# end of tests\n",
    "# stats = p.process_all(anomalies, skip_first=701, max_process=5)\n",
    "\n",
    "for stat in stats:\n",
    "    table = tabulate.tabulate(stat, tablefmt=\"html\")\n",
    "    display.display_html(table, raw=True)\n",
    "\n"
   ]
  },
  {
   "cell_type": "code",
   "execution_count": null,
   "metadata": {},
   "outputs": [],
   "source": []
  }
 ],
 "metadata": {
  "interpreter": {
   "hash": "df0893f56f349688326838aaeea0de204df53a132722cbd565e54b24a8fec5f6"
  },
  "kernelspec": {
   "display_name": "Python 3 (ipykernel)",
   "language": "python",
   "name": "python3"
  },
  "language_info": {
   "codemirror_mode": {
    "name": "ipython",
    "version": 3
   },
   "file_extension": ".py",
   "mimetype": "text/x-python",
   "name": "python",
   "nbconvert_exporter": "python",
   "pygments_lexer": "ipython3",
   "version": "3.8.10"
  },
  "orig_nbformat": 4
 },
 "nbformat": 4,
 "nbformat_minor": 2
}
