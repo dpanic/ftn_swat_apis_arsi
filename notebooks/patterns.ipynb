{
 "cells": [
  {
   "cell_type": "markdown",
   "metadata": {},
   "source": [
    "# Load data\n",
    "\n",
    "Here we load and preprocess data from CSV file"
   ]
  },
  {
   "cell_type": "code",
   "execution_count": 1,
   "metadata": {},
   "outputs": [
    {
     "data": {
      "text/html": [
       "<table>\n",
       "<tbody>\n",
       "<tr><td>Total files</td><td>Skipped</td><td>Loaded</td></tr>\n",
       "<tr><td>786        </td><td>2      </td><td>784   </td></tr>\n",
       "</tbody>\n",
       "</table>"
      ],
      "text/plain": [
       "'<table>\\n<tbody>\\n<tr><td>Total files</td><td>Skipped</td><td>Loaded</td></tr>\\n<tr><td>786        </td><td>2      </td><td>784   </td></tr>\\n</tbody>\\n</table>'"
      ]
     },
     "execution_count": 1,
     "metadata": {},
     "output_type": "execute_result"
    }
   ],
   "source": [
    "import modules.patterns as patterns\n",
    "import tabulate\n",
    "\n",
    "# bigger number is lower precission\n",
    "# highest precission is 1\n",
    "p = patterns.Patterns(10000)\n",
    "\n",
    "folder_loc = \"../data/2015/Network\"\n",
    "stats = p.bootstrap(folder_loc)\n",
    "table = tabulate.tabulate(stats, tablefmt=\"html\")\n",
    "table\n",
    "\n",
    "\n"
   ]
  },
  {
   "cell_type": "markdown",
   "metadata": {},
   "source": [
    "## Detect anomalies from input data\n",
    "\n",
    "We can get the information about attacks from SWaT dataset `data/2015/List_of_attacks_Final.csv. They represent are divided into groups:\n",
    "\n",
    "- Single stage single point (SSSP)\n",
    "- Single stage multi point (SSMP)\n",
    "- Multi stage single point (MSSP)\n",
    "- Multi stage multi point attacks (MSMP)"
   ]
  },
  {
   "cell_type": "code",
   "execution_count": 2,
   "metadata": {},
   "outputs": [
    {
     "name": "stdout",
     "output_type": "stream",
     "text": [
      "Loaded 35 anomalies\n",
      "\n"
     ]
    }
   ],
   "source": [
    "import modules.load as load\n",
    "\n",
    "attacks_file_loc = \"../data/2015/List_of_attacks_Final_fixed.xlsx\"\n",
    "stages, anomalies = load.anomalies(attacks_file_loc)\n",
    "\n",
    "print(\"Loaded %d anomalies\\n\" %(len(anomalies)))"
   ]
  },
  {
   "cell_type": "markdown",
   "metadata": {},
   "source": [
    "# Process data\n",
    "\n",
    "Here we process every single file for finding possible patterns"
   ]
  },
  {
   "cell_type": "code",
   "execution_count": 3,
   "metadata": {},
   "outputs": [
    {
     "name": "stdout",
     "output_type": "stream",
     "text": [
      "[ 500 / 784 ] processing file ../data/2015/Network/2015-12-29_190411_104.log.part09_sorted.csv\n"
     ]
    },
    {
     "data": {
      "text/html": [
       "<table>\n",
       "<tbody>\n",
       "<tr><td>Total rows</td><td>Attack</td><td>Normal</td><td>Attack points</td><td>Attacked stages</td></tr>\n",
       "<tr><td>50        </td><td>50    </td><td>0     </td><td>3            </td><td>3              </td></tr>\n",
       "</tbody>\n",
       "</table>"
      ]
     },
     "metadata": {},
     "output_type": "display_data"
    },
    {
     "name": "stdout",
     "output_type": "stream",
     "text": [
      "[ 501 / 784 ] processing file ../data/2015/Network/2015-12-29_190411_104.log.part10_sorted.csv\n"
     ]
    },
    {
     "data": {
      "text/html": [
       "<table>\n",
       "<tbody>\n",
       "<tr><td>Total rows</td><td>Attack</td><td>Normal</td><td>Attack points</td><td>Attacked stages</td></tr>\n",
       "<tr><td>50        </td><td>50    </td><td>0     </td><td>3            </td><td>3              </td></tr>\n",
       "</tbody>\n",
       "</table>"
      ]
     },
     "metadata": {},
     "output_type": "display_data"
    },
    {
     "name": "stdout",
     "output_type": "stream",
     "text": [
      "[ 502 / 784 ] processing file ../data/2015/Network/2015-12-29_190411_104.log.part11_sorted.csv\n"
     ]
    },
    {
     "data": {
      "text/html": [
       "<table>\n",
       "<tbody>\n",
       "<tr><td>Total rows</td><td>Attack</td><td>Normal</td><td>Attack points</td><td>Attacked stages</td></tr>\n",
       "<tr><td>50        </td><td>50    </td><td>0     </td><td>3            </td><td>3              </td></tr>\n",
       "</tbody>\n",
       "</table>"
      ]
     },
     "metadata": {},
     "output_type": "display_data"
    },
    {
     "name": "stdout",
     "output_type": "stream",
     "text": [
      "[ 503 / 784 ] processing file ../data/2015/Network/2015-12-29_190411_104.log.part12_sorted.csv\n"
     ]
    },
    {
     "data": {
      "text/html": [
       "<table>\n",
       "<tbody>\n",
       "<tr><td>Total rows</td><td>Attack</td><td>Normal</td><td>Attack points</td><td>Attacked stages</td></tr>\n",
       "<tr><td>50        </td><td>50    </td><td>0     </td><td>4            </td><td>4              </td></tr>\n",
       "</tbody>\n",
       "</table>"
      ]
     },
     "metadata": {},
     "output_type": "display_data"
    },
    {
     "name": "stdout",
     "output_type": "stream",
     "text": [
      "[ 504 / 784 ] processing file ../data/2015/Network/2015-12-29_190411_104.log.part13_sorted.csv\n"
     ]
    },
    {
     "data": {
      "text/html": [
       "<table>\n",
       "<tbody>\n",
       "<tr><td>Total rows</td><td>Attack</td><td>Normal</td><td>Attack points</td><td>Attacked stages</td></tr>\n",
       "<tr><td>50        </td><td>50    </td><td>0     </td><td>5            </td><td>4              </td></tr>\n",
       "</tbody>\n",
       "</table>"
      ]
     },
     "metadata": {},
     "output_type": "display_data"
    },
    {
     "name": "stdout",
     "output_type": "stream",
     "text": [
      "[ 505 / 784 ] processing file ../data/2015/Network/2015-12-29_190411_104.log.part14_sorted.csv\n"
     ]
    },
    {
     "data": {
      "text/html": [
       "<table>\n",
       "<tbody>\n",
       "<tr><td>Total rows</td><td>Attack</td><td>Normal</td><td>Attack points</td><td>Attacked stages</td></tr>\n",
       "<tr><td>43        </td><td>43    </td><td>0     </td><td>4            </td><td>3              </td></tr>\n",
       "</tbody>\n",
       "</table>"
      ]
     },
     "metadata": {},
     "output_type": "display_data"
    },
    {
     "name": "stdout",
     "output_type": "stream",
     "text": [
      "[ 506 / 784 ] processing file ../data/2015/Network/2015-12-30_001940_105.log.part01_sorted.csv\n"
     ]
    },
    {
     "name": "stderr",
     "output_type": "stream",
     "text": [
      "/home/dpanic/projects/ftn/swat_apis_arsi/notebooks/modules/patterns.py:86: DtypeWarning: Columns (19) have mixed types.Specify dtype option on import or set low_memory=False.\n",
      "  yield self.process(file)\n"
     ]
    },
    {
     "data": {
      "text/html": [
       "<table>\n",
       "<tbody>\n",
       "<tr><td>Total rows</td><td>Attack</td><td>Normal</td><td>Attack points</td><td>Attacked stages</td></tr>\n",
       "<tr><td>50        </td><td>50    </td><td>0     </td><td>3            </td><td>3              </td></tr>\n",
       "</tbody>\n",
       "</table>"
      ]
     },
     "metadata": {},
     "output_type": "display_data"
    },
    {
     "name": "stdout",
     "output_type": "stream",
     "text": [
      "[ 507 / 784 ] processing file ../data/2015/Network/2015-12-30_001940_105.log.part02_sorted.csv\n"
     ]
    },
    {
     "data": {
      "text/html": [
       "<table>\n",
       "<tbody>\n",
       "<tr><td>Total rows</td><td>Attack</td><td>Normal</td><td>Attack points</td><td>Attacked stages</td></tr>\n",
       "<tr><td>50        </td><td>50    </td><td>0     </td><td>3            </td><td>3              </td></tr>\n",
       "</tbody>\n",
       "</table>"
      ]
     },
     "metadata": {},
     "output_type": "display_data"
    },
    {
     "name": "stdout",
     "output_type": "stream",
     "text": [
      "[ 508 / 784 ] processing file ../data/2015/Network/2015-12-30_001940_105.log.part03_sorted.csv\n"
     ]
    },
    {
     "data": {
      "text/html": [
       "<table>\n",
       "<tbody>\n",
       "<tr><td>Total rows</td><td>Attack</td><td>Normal</td><td>Attack points</td><td>Attacked stages</td></tr>\n",
       "<tr><td>50        </td><td>50    </td><td>0     </td><td>3            </td><td>3              </td></tr>\n",
       "</tbody>\n",
       "</table>"
      ]
     },
     "metadata": {},
     "output_type": "display_data"
    },
    {
     "name": "stdout",
     "output_type": "stream",
     "text": [
      "[ 509 / 784 ] processing file ../data/2015/Network/2015-12-30_001940_105.log.part04_sorted.csv\n"
     ]
    },
    {
     "data": {
      "text/html": [
       "<table>\n",
       "<tbody>\n",
       "<tr><td>Total rows</td><td>Attack</td><td>Normal</td><td>Attack points</td><td>Attacked stages</td></tr>\n",
       "<tr><td>50        </td><td>50    </td><td>0     </td><td>3            </td><td>3              </td></tr>\n",
       "</tbody>\n",
       "</table>"
      ]
     },
     "metadata": {},
     "output_type": "display_data"
    },
    {
     "name": "stdout",
     "output_type": "stream",
     "text": [
      "[ 510 / 784 ] processing file ../data/2015/Network/2015-12-30_001940_105.log.part05_sorted.csv\n"
     ]
    },
    {
     "data": {
      "text/html": [
       "<table>\n",
       "<tbody>\n",
       "<tr><td>Total rows</td><td>Attack</td><td>Normal</td><td>Attack points</td><td>Attacked stages</td></tr>\n",
       "<tr><td>50        </td><td>50    </td><td>0     </td><td>3            </td><td>3              </td></tr>\n",
       "</tbody>\n",
       "</table>"
      ]
     },
     "metadata": {},
     "output_type": "display_data"
    }
   ],
   "source": [
    "from IPython import display\n",
    "\n",
    "for stats in p.process_all(anomalies, skip_first=500, max_process=10):\n",
    "    table = tabulate.tabulate(stats, tablefmt=\"html\")\n",
    "    display.display_html(table, raw=True)\n",
    "\n"
   ]
  },
  {
   "cell_type": "code",
   "execution_count": null,
   "metadata": {},
   "outputs": [],
   "source": []
  }
 ],
 "metadata": {
  "interpreter": {
   "hash": "df0893f56f349688326838aaeea0de204df53a132722cbd565e54b24a8fec5f6"
  },
  "kernelspec": {
   "display_name": "Python 3 (ipykernel)",
   "language": "python",
   "name": "python3"
  },
  "language_info": {
   "codemirror_mode": {
    "name": "ipython",
    "version": 3
   },
   "file_extension": ".py",
   "mimetype": "text/x-python",
   "name": "python",
   "nbconvert_exporter": "python",
   "pygments_lexer": "ipython3",
   "version": "3.8.10"
  },
  "orig_nbformat": 4
 },
 "nbformat": 4,
 "nbformat_minor": 2
}
