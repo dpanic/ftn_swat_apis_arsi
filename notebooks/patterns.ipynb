{
 "cells": [
  {
   "cell_type": "markdown",
   "metadata": {},
   "source": [
    "# Load data\n",
    "\n",
    "Here we load and preprocess data from CSV file"
   ]
  },
  {
   "cell_type": "code",
   "execution_count": 1,
   "metadata": {},
   "outputs": [],
   "source": [
    "import modules.patterns as patterns\n",
    "import tabulate\n",
    "\n",
    "# bigger number is lower precission\n",
    "# highest precission is 1\n",
    "p = patterns.Patterns(precission=100, window_size=100)\n",
    "\n",
    "folder_loc = \"../data/2015/Network\"\n",
    "result_loc = \"../output/results.html\"\n",
    "\n",
    "stats = p.bootstrap(folder_loc)\n",
    "table = tabulate.tabulate(stats, tablefmt=\"html\")\n",
    "table\n",
    "\n",
    "header = \"\"\"\n",
    "<!doctype html>\n",
    "<html lang=\"en-GB\">\n",
    "    <head>\n",
    "        <meta charset=\"utf-8\">\n",
    "        <meta http-equiv=\"X-UA-Compatible\" content=\"IE=edge\">\n",
    "        <meta name=\"viewport\" content=\"width=device-width, initial-scale=1.0\">\n",
    "        <link rel=\"stylesheet\" href=\"https://cdn.simplecss.org/simple.css\">\n",
    "    </head>\n",
    "\"\"\"\n",
    "\n",
    "\n",
    "with open(result_loc, \"w\") as fd:\n",
    "    fd.write(header)\n",
    "    fd.write(table.str)\n"
   ]
  },
  {
   "cell_type": "markdown",
   "metadata": {},
   "source": [
    "## Detect anomalies from input data\n",
    "\n",
    "We can get the information about attacks from SWaT dataset `data/2015/List_of_attacks_Final.csv. They represent are divided into groups:\n",
    "\n",
    "- Single stage single point (SSSP)\n",
    "- Single stage multi point (SSMP)\n",
    "- Multi stage single point (MSSP)\n",
    "- Multi stage multi point attacks (MSMP)"
   ]
  },
  {
   "cell_type": "code",
   "execution_count": 2,
   "metadata": {},
   "outputs": [
    {
     "name": "stdout",
     "output_type": "stream",
     "text": [
      "First anomaly detected 2015-12-28T10:29:14\n",
      "Loaded 35 anomalies\n",
      "\n"
     ]
    }
   ],
   "source": [
    "import modules.load as load\n",
    "\n",
    "attacks_file_loc = \"../data/2015/List_of_attacks_Final_fixed.xlsx\"\n",
    "stages, anomalies = load.anomalies(attacks_file_loc)\n",
    "\n",
    "print(\"Loaded %d anomalies\\n\" %(len(anomalies)))"
   ]
  },
  {
   "cell_type": "markdown",
   "metadata": {},
   "source": [
    "# Process data\n",
    "\n",
    "Here we process every single file for finding possible patterns"
   ]
  },
  {
   "cell_type": "code",
   "execution_count": 3,
   "metadata": {},
   "outputs": [
    {
     "name": "stdout",
     "output_type": "stream",
     "text": [
      "[ 1 / 370 | 414 / 784 ] processing file ../data/2015/Network/2015-12-28_113021_98.log.part07_sorted.csv\n",
      "[ 2 / 370 | 415 / 784 ] processing file ../data/2015/Network/2015-12-28_113021_98.log.part08_sorted.csv\n",
      "[ 3 / 370 | 416 / 784 ] processing file ../data/2015/Network/2015-12-28_113021_98.log.part09_sorted.csv\n",
      "[ 4 / 370 | 417 / 784 ] processing file ../data/2015/Network/2015-12-28_113021_98.log.part10_sorted.csv\n",
      "[ 5 / 370 | 418 / 784 ] processing file ../data/2015/Network/2015-12-28_113021_98.log.part11_sorted.csv\n",
      "[ 6 / 370 | 419 / 784 ] processing file ../data/2015/Network/2015-12-28_113021_98.log.part12_sorted.csv\n",
      "[ 7 / 370 | 420 / 784 ] processing file ../data/2015/Network/2015-12-28_113021_98.log.part13_sorted.csv\n",
      "[ 8 / 370 | 421 / 784 ] processing file ../data/2015/Network/2015-12-28_113021_98.log.part14_sorted.csv\n",
      "[ 9 / 370 | 422 / 784 ] processing file ../data/2015/Network/2015-12-28_164554_99.log.part01_sorted.csv\n",
      "[ 10 / 370 | 423 / 784 ] processing file ../data/2015/Network/2015-12-28_164554_99.log.part02_sorted.csv\n",
      "[ 11 / 370 | 424 / 784 ] processing file ../data/2015/Network/2015-12-28_164554_99.log.part03_sorted.csv\n",
      "[ 12 / 370 | 425 / 784 ] processing file ../data/2015/Network/2015-12-28_164554_99.log.part04_sorted.csv\n",
      "[ 13 / 370 | 426 / 784 ] processing file ../data/2015/Network/2015-12-28_164554_99.log.part05_sorted.csv\n",
      "[ 14 / 370 | 427 / 784 ] processing file ../data/2015/Network/2015-12-28_164554_99.log.part06_sorted.csv\n",
      "[ 15 / 370 | 428 / 784 ] processing file ../data/2015/Network/2015-12-28_164554_99.log.part07_sorted.csv\n",
      "[ 16 / 370 | 429 / 784 ] processing file ../data/2015/Network/2015-12-28_164554_99.log.part08_sorted.csv\n",
      "[ 17 / 370 | 430 / 784 ] processing file ../data/2015/Network/2015-12-28_164554_99.log.part09_sorted.csv\n",
      "[ 18 / 370 | 431 / 784 ] processing file ../data/2015/Network/2015-12-28_164554_99.log.part10_sorted.csv\n",
      "[ 19 / 370 | 432 / 784 ] processing file ../data/2015/Network/2015-12-28_164554_99.log.part11_sorted.csv\n",
      "[ 20 / 370 | 433 / 784 ] processing file ../data/2015/Network/2015-12-28_164554_99.log.part12_sorted.csv\n",
      "[ 21 / 370 | 434 / 784 ] processing file ../data/2015/Network/2015-12-28_164554_99.log.part13_sorted.csv\n",
      "[ 22 / 370 | 435 / 784 ] processing file ../data/2015/Network/2015-12-28_164554_99.log.part14_sorted.csv\n",
      "[ 23 / 370 | 436 / 784 ] processing file ../data/2015/Network/2015-12-28_220136_100.log.part01_sorted.csv\n",
      "[ 24 / 370 | 437 / 784 ] processing file ../data/2015/Network/2015-12-28_220136_100.log.part02_sorted.csv\n",
      "[ 25 / 370 | 438 / 784 ] processing file ../data/2015/Network/2015-12-28_220136_100.log.part03_sorted.csv\n",
      "[ 26 / 370 | 439 / 784 ] processing file ../data/2015/Network/2015-12-28_220136_100.log.part04_sorted.csv\n",
      "[ 27 / 370 | 440 / 784 ] processing file ../data/2015/Network/2015-12-28_220136_100.log.part05_sorted.csv\n",
      "[ 28 / 370 | 441 / 784 ] processing file ../data/2015/Network/2015-12-28_220136_100.log.part06_sorted.csv\n",
      "[ 29 / 370 | 442 / 784 ] processing file ../data/2015/Network/2015-12-28_220136_100.log.part07_sorted.csv\n",
      "[ 30 / 370 | 443 / 784 ] processing file ../data/2015/Network/2015-12-28_220136_100.log.part08_sorted.csv\n",
      "[ 31 / 370 | 444 / 784 ] processing file ../data/2015/Network/2015-12-28_220136_100.log.part09_sorted.csv\n",
      "[ 32 / 370 | 445 / 784 ] processing file ../data/2015/Network/2015-12-28_220136_100.log.part10_sorted.csv\n",
      "[ 33 / 370 | 446 / 784 ] processing file ../data/2015/Network/2015-12-28_220136_100.log.part11_sorted.csv\n",
      "[ 34 / 370 | 447 / 784 ] processing file ../data/2015/Network/2015-12-28_220136_100.log.part12_sorted.csv\n",
      "[ 35 / 370 | 448 / 784 ] processing file ../data/2015/Network/2015-12-28_220136_100.log.part13_sorted.csv\n",
      "[ 36 / 370 | 449 / 784 ] processing file ../data/2015/Network/2015-12-28_220136_100.log.part14_sorted.csv\n",
      "[ 37 / 370 | 450 / 784 ] processing file ../data/2015/Network/2015-12-29_031711_101.log.part01_sorted.csv\n",
      "[ 38 / 370 | 451 / 784 ] processing file ../data/2015/Network/2015-12-29_031711_101.log.part02_sorted.csv\n",
      "[ 39 / 370 | 452 / 784 ] processing file ../data/2015/Network/2015-12-29_031711_101.log.part03_sorted.csv\n",
      "[ 40 / 370 | 453 / 784 ] processing file ../data/2015/Network/2015-12-29_031711_101.log.part04_sorted.csv\n",
      "[ 41 / 370 | 454 / 784 ] processing file ../data/2015/Network/2015-12-29_031711_101.log.part05_sorted.csv\n",
      "[ 42 / 370 | 455 / 784 ] processing file ../data/2015/Network/2015-12-29_031711_101.log.part06_sorted.csv\n",
      "[ 43 / 370 | 456 / 784 ] processing file ../data/2015/Network/2015-12-29_031711_101.log.part07_sorted.csv\n",
      "[ 44 / 370 | 457 / 784 ] processing file ../data/2015/Network/2015-12-29_031711_101.log.part08_sorted.csv\n",
      "[ 45 / 370 | 458 / 784 ] processing file ../data/2015/Network/2015-12-29_031711_101.log.part09_sorted.csv\n",
      "[ 46 / 370 | 459 / 784 ] processing file ../data/2015/Network/2015-12-29_031711_101.log.part10_sorted.csv\n",
      "[ 47 / 370 | 460 / 784 ] processing file ../data/2015/Network/2015-12-29_031711_101.log.part11_sorted.csv\n",
      "[ 48 / 370 | 461 / 784 ] processing file ../data/2015/Network/2015-12-29_031711_101.log.part12_sorted.csv\n",
      "[ 49 / 370 | 462 / 784 ] processing file ../data/2015/Network/2015-12-29_031711_101.log.part13_sorted.csv\n",
      "[ 50 / 370 | 463 / 784 ] processing file ../data/2015/Network/2015-12-29_031711_101.log.part14_sorted.csv\n",
      "[ 51 / 370 | 464 / 784 ] processing file ../data/2015/Network/2015-12-29_083248_102.log.part01_sorted.csv\n",
      "[ 52 / 370 | 465 / 784 ] processing file ../data/2015/Network/2015-12-29_083248_102.log.part02_sorted.csv\n",
      "[ 53 / 370 | 466 / 784 ] processing file ../data/2015/Network/2015-12-29_083248_102.log.part03_sorted.csv\n",
      "[ 54 / 370 | 467 / 784 ] processing file ../data/2015/Network/2015-12-29_083248_102.log.part04_sorted.csv\n",
      "[ 55 / 370 | 468 / 784 ] processing file ../data/2015/Network/2015-12-29_083248_102.log.part05_sorted.csv\n",
      "[ 56 / 370 | 469 / 784 ] processing file ../data/2015/Network/2015-12-29_083248_102.log.part06_sorted.csv\n",
      "[ 57 / 370 | 470 / 784 ] processing file ../data/2015/Network/2015-12-29_083248_102.log.part07_sorted.csv\n",
      "[ 58 / 370 | 471 / 784 ] processing file ../data/2015/Network/2015-12-29_083248_102.log.part08_sorted.csv\n",
      "[ 59 / 370 | 472 / 784 ] processing file ../data/2015/Network/2015-12-29_083248_102.log.part09_sorted.csv\n",
      "[ 60 / 370 | 473 / 784 ] processing file ../data/2015/Network/2015-12-29_083248_102.log.part10_sorted.csv\n",
      "[ 61 / 370 | 474 / 784 ] processing file ../data/2015/Network/2015-12-29_083248_102.log.part11_sorted.csv\n",
      "[ 62 / 370 | 475 / 784 ] processing file ../data/2015/Network/2015-12-29_083248_102.log.part12_sorted.csv\n",
      "[ 63 / 370 | 476 / 784 ] processing file ../data/2015/Network/2015-12-29_083248_102.log.part13_sorted.csv\n",
      "[ 64 / 370 | 477 / 784 ] processing file ../data/2015/Network/2015-12-29_083248_102.log.part14_sorted.csv\n",
      "[ 65 / 370 | 478 / 784 ] processing file ../data/2015/Network/2015-12-29_134830_103.log.part01_sorted.csv\n",
      "[ 66 / 370 | 479 / 784 ] processing file ../data/2015/Network/2015-12-29_134830_103.log.part02_sorted.csv\n",
      "[ 67 / 370 | 480 / 784 ] processing file ../data/2015/Network/2015-12-29_134830_103.log.part03_sorted.csv\n",
      "[ 68 / 370 | 481 / 784 ] processing file ../data/2015/Network/2015-12-29_134830_103.log.part04_sorted.csv\n",
      "[ 69 / 370 | 482 / 784 ] processing file ../data/2015/Network/2015-12-29_134830_103.log.part05_sorted.csv\n",
      "[ 70 / 370 | 483 / 784 ] processing file ../data/2015/Network/2015-12-29_134830_103.log.part06_sorted.csv\n"
     ]
    }
   ],
   "source": [
    "import time\n",
    "from IPython import display\n",
    "\n",
    "# edge case, testing one\n",
    "ts_start = time.time()\n",
    "stats = p.process_all(anomalies, skip_first=414, max_process=-1)\n",
    "\n",
    "# stats = p.process_all(anomalies, skip_first=414, max_process=-1)\n",
    "\n",
    "# end of tests\n",
    "# stats = p.process_all(anomalies, skip_first=701, max_process=5)\n",
    "\n",
    "for stat in stats:\n",
    "    table = tabulate.tabulate(stat, tablefmt=\"html\")\n",
    "    display.display_html(table, raw=True)\n",
    "\n",
    "    with open(result_loc, \"a\") as fd:\n",
    "        fd.write(table.str)\n",
    "\n",
    "diff = time.time() - ts_start\n",
    "print(\"Runtime %d sec.\" %(diff))\n",
    "\n",
    "with open(result_loc, \"a\") as fd:\n",
    "    fd.write(\"<p>Runtime %d sec.</p>\" %(diff))\n"
   ]
  },
  {
   "cell_type": "code",
   "execution_count": null,
   "metadata": {},
   "outputs": [],
   "source": []
  }
 ],
 "metadata": {
  "interpreter": {
   "hash": "df0893f56f349688326838aaeea0de204df53a132722cbd565e54b24a8fec5f6"
  },
  "kernelspec": {
   "display_name": "Python 3 (ipykernel)",
   "language": "python",
   "name": "python3"
  },
  "language_info": {
   "codemirror_mode": {
    "name": "ipython",
    "version": 3
   },
   "file_extension": ".py",
   "mimetype": "text/x-python",
   "name": "python",
   "nbconvert_exporter": "python",
   "pygments_lexer": "ipython3",
   "version": "3.8.10"
  },
  "orig_nbformat": 4
 },
 "nbformat": 4,
 "nbformat_minor": 2
}
