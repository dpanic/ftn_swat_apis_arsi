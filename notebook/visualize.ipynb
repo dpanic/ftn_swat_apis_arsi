{
 "cells": [
  {
   "cell_type": "markdown",
   "metadata": {},
   "source": [
    "# Load Data\n",
    "\n",
    "Here we load and preprocess data from CSV file"
   ]
  },
  {
   "cell_type": "code",
   "execution_count": null,
   "metadata": {},
   "outputs": [],
   "source": [
    "import numpy as np\n",
    "import pandas as pd\n",
    "import normalize\n",
    "\n",
    "df_file_loc = \"../data/2015/Physical/SWaT_Dataset_Attack_v0.csv\"\n",
    "\n",
    "df = pd.read_csv(df_file_loc)\n",
    "print(df.shape)\n",
    "df_total_rows = int(df.shape[0])\n",
    "\n",
    "# Dataset Start Time and End Time\n",
    "df_time_start = 0\n",
    "df_time_end = 0\n",
    "\n",
    "for index, row in df.iterrows():\n",
    "    if index == 1:\n",
    "        timestamp, _ = normalize.date_time(row[\"Timestamp\"])\n",
    "        print(\"timestamp_start=%s\" %(timestamp))\n",
    "        df_time_start = np.array(timestamp, dtype=np.datetime64)\n",
    "        break\n",
    "\n",
    "\n",
    "names = df.columns.tolist()\n",
    "df_footer = pd.read_csv(df_file_loc, names=names, skiprows=df_total_rows)\n",
    "for index, row in df_footer.iterrows():\n",
    "    timestamp, _ = normalize.date_time(row[\"Timestamp\"])\n",
    "    print(\"timestamp_end=%s\" %(timestamp))\n",
    "    df_time_end = np.array(timestamp, dtype=np.datetime64)\n",
    "\n",
    "df.reset_index()\n",
    "df.head()"
   ]
  },
  {
   "cell_type": "markdown",
   "metadata": {},
   "source": [
    "## Detect anomalies from input data\n",
    "\n",
    "We can get the information about attacks from SWaT dataset `data/2015/List_of_attacks_Final.csv. They represent are divided into groups:\n",
    "\n",
    "- Single stage single point (SSSP)\n",
    "- Single stage multi point (SSMP)\n",
    "- Multi stage single point (MSSP)\n",
    "- Multi stage multi point attacks (MSMP)\n",
    " "
   ]
  },
  {
   "cell_type": "code",
   "execution_count": null,
   "metadata": {},
   "outputs": [],
   "source": [
    "import load \n",
    "\n",
    "attacks_file_loc = \"../data/2015/List_of_attacks_Final_fixed.xlsx\"\n",
    "stages, anomalies = load.anomalies(attacks_file_loc)\n",
    "\n",
    "print(\"Loaded %d anomalies\\n\" %(len(anomalies)))"
   ]
  },
  {
   "cell_type": "markdown",
   "metadata": {},
   "source": [
    "## Plot all"
   ]
  },
  {
   "cell_type": "code",
   "execution_count": null,
   "metadata": {},
   "outputs": [],
   "source": [
    "import plot\n",
    "import numpy as np\n",
    "import filter\n",
    "\n",
    "time_delta = np.timedelta64(1, \"s\")\n",
    "time_start, time_end, filtered_anomalies = filter.get_times(anomalies, None)\n",
    "\n",
    "time_start -= 300\n",
    "time_end += 300\n",
    "\n",
    "time_len = int((time_end - time_start) / time_delta)\n",
    "\n",
    "x = time_start + np.arange(0, time_len, 1)\n",
    "idx_start = int((time_start - df_time_start) / time_delta)\n",
    "idx_end = int((time_end - df_time_start) / time_delta)\n",
    "\n",
    "obj = {\n",
    "    \"name\": \"all\",\n",
    "    \"file_loc\": \"../output/all.png\", \n",
    "    \"df\": df, \n",
    "    \"time_start\": time_start, \n",
    "    \"time_delta\": time_delta, \n",
    "    \"idx_start\": idx_start, \n",
    "    \"idx_end\": idx_end,\n",
    "    \"filtered_anomalies\": filtered_anomalies,\n",
    "    # \"title\": \"All stages together\",\n",
    "    \"title\": \"\",\n",
    "    \"x\": x\n",
    "}\n",
    "plot.process(obj)\n",
    "\n"
   ]
  },
  {
   "cell_type": "markdown",
   "metadata": {},
   "source": [
    "## Plot per stage (P1, P2, P3, P4, P5, P6)\n",
    "\n",
    "Here we plot per stage what is and where happening"
   ]
  },
  {
   "cell_type": "code",
   "execution_count": null,
   "metadata": {},
   "outputs": [],
   "source": [
    "import filter\n",
    "import plot\n",
    "\n",
    "stages_for_plotting = [\n",
    "    \"P1\",\n",
    "    \"P2\",\n",
    "    \"P3\",\n",
    "    \"P4\",\n",
    "    \"P5\",\n",
    "    \"P6\",\n",
    "]\n",
    "\n",
    "time_delta = np.timedelta64(1, \"s\")\n",
    "\n",
    "for stage in stages_for_plotting:\n",
    "    time_start, time_end, filtered_anomalies = filter.get_times(anomalies, stage)\n",
    "\n",
    "    time_start -= 300\n",
    "    time_end += 300\n",
    "    time_len = int((time_end - time_start) / time_delta)\n",
    "\n",
    "    x = time_start + np.arange(0, time_len, 1)\n",
    "    idx_start = int((time_start - df_time_start) / time_delta)\n",
    "    idx_end = int((time_end - df_time_start) / time_delta)\n",
    "\n",
    "    columns = stages[stage]\n",
    "    df_custom = filter.load_df(df_file_loc, columns)\n",
    "\n",
    "    obj = {\n",
    "        \"name\": stage,\n",
    "        \"file_loc\": \"../output/stage_%s.png\" %(stage), \n",
    "        \"df\": df_custom, \n",
    "        \"time_start\": time_start, \n",
    "        \"time_delta\": time_delta, \n",
    "        \"idx_start\": idx_start, \n",
    "        \"idx_end\": idx_end,\n",
    "        \"filtered_anomalies\": filtered_anomalies,\n",
    "        # \"title\": \"Stage %s\" %(stage),\n",
    "        \"title\": \"\",\n",
    "        \"x\": x\n",
    "    }\n",
    "    plot.process(obj)\n"
   ]
  },
  {
   "cell_type": "markdown",
   "metadata": {},
   "source": [
    "## Plot anomalies\n",
    "\n",
    "We plot anomalies as they happen, single anomaly and group as well\n"
   ]
  },
  {
   "cell_type": "code",
   "execution_count": null,
   "metadata": {},
   "outputs": [],
   "source": [
    "import filter\n",
    "import plot\n",
    "\n",
    "time_delta = np.timedelta64(1, \"s\")\n",
    "\n",
    "# anomalies_for_plotting = [\n",
    "#     {\n",
    "#         \"attack_points\": [ \n",
    "#             \"AIT504\",\n",
    "#         ],\n",
    "\n",
    "#         \"attack_stages\": [\n",
    "#             \"P5\",\n",
    "#         ]\n",
    "#     }\n",
    "# ]\n",
    "anomalies_for_plotting = anomalies\n",
    "\n",
    "for anomaly_for_plotting in anomalies_for_plotting:\n",
    "    time_start, time_end, filtered_anomalies = filter.get_times(anomalies, anomaly_for_plotting[\"attack_points\"])\n",
    "\n",
    "    time_start -= 300\n",
    "    time_end += 300\n",
    "    time_len = int((time_end - time_start) / time_delta)\n",
    "\n",
    "    x = time_start + np.arange(0, time_len, 1)\n",
    "    idx_start = int((time_start - df_time_start) / time_delta)\n",
    "    idx_end = int((time_end - df_time_start) / time_delta)\n",
    "\n",
    "\n",
    "    columns = anomaly_for_plotting[\"attack_points\"]\n",
    "    tag = \"_\".join(columns)\n",
    "    df_custom = filter.load_df(df_file_loc, columns)\n",
    "\n",
    "    obj = {\n",
    "        \"name\": tag,\n",
    "        \"file_loc\": \"../output/anomaly_%s.png\" %(tag), \n",
    "        \"df\": df_custom, \n",
    "        \"time_start\": time_start, \n",
    "        \"time_delta\": time_delta, \n",
    "        \"idx_start\": idx_start, \n",
    "        \"idx_end\": idx_end,\n",
    "        \"filtered_anomalies\": filtered_anomalies,\n",
    "        # \"title\": \"Stage %s\" %(stage),\n",
    "        \"title\": \"\",\n",
    "        \"x\": x\n",
    "    }\n",
    "    plot.process(obj)\n"
   ]
  },
  {
   "cell_type": "code",
   "execution_count": null,
   "metadata": {},
   "outputs": [],
   "source": []
  }
 ],
 "metadata": {
  "interpreter": {
   "hash": "df0893f56f349688326838aaeea0de204df53a132722cbd565e54b24a8fec5f6"
  },
  "kernelspec": {
   "display_name": "Python 3 (ipykernel)",
   "language": "python",
   "name": "python3"
  },
  "language_info": {
   "codemirror_mode": {
    "name": "ipython",
    "version": 3
   },
   "file_extension": ".py",
   "mimetype": "text/x-python",
   "name": "python",
   "nbconvert_exporter": "python",
   "pygments_lexer": "ipython3",
   "version": "3.8.10"
  },
  "orig_nbformat": 4
 },
 "nbformat": 4,
 "nbformat_minor": 2
}
